{
  "cells": [
    {
      "cell_type": "markdown",
      "metadata": {
        "id": "49L5HrPDlbwd"
      },
      "source": [
        "İMPORTS"
      ]
    },
    {
      "cell_type": "code",
      "execution_count": 2,
      "metadata": {
        "id": "3-n6JWsAgyR7"
      },
      "outputs": [],
      "source": [
        "import pandas as pd\n",
        "import numpy as np\n",
        "import seaborn as sns\n",
        "import matplotlib.pyplot as plt\n",
        "import plotly.express as px\n",
        "from sklearn.preprocessing import LabelEncoder\n",
        "from sklearn.preprocessing import StandardScaler\n",
        "from sklearn.model_selection import train_test_split\n",
        "from sklearn.neighbors import KNeighborsClassifier\n",
        "from sklearn.ensemble import RandomForestClassifier\n",
        "from xgboost import XGBClassifier\n",
        "from sklearn.naive_bayes import GaussianNB\n",
        "from sklearn.linear_model import LogisticRegression\n",
        "from sklearn.model_selection import cross_val_score\n",
        "from sklearn.tree import DecisionTreeClassifier\n",
        "from sklearn.svm import SVC\n",
        "from sklearn.metrics import f1_score, precision_score, accuracy_score, recall_score, balanced_accuracy_score\n",
        "from sklearn.metrics import classification_report\n",
        "import warnings\n",
        "warnings.filterwarnings('ignore')"
      ]
    },
    {
      "cell_type": "code",
      "execution_count": 3,
      "metadata": {
        "colab": {
          "base_uri": "https://localhost:8080/"
        },
        "id": "9co8F49Slhbt",
        "outputId": "3bdb0adf-8312-4101-febe-7b92f3f71242"
      },
      "outputs": [
        {
          "ename": "ModuleNotFoundError",
          "evalue": "No module named 'google'",
          "output_type": "error",
          "traceback": [
            "\u001b[1;31m---------------------------------------------------------------------------\u001b[0m",
            "\u001b[1;31mModuleNotFoundError\u001b[0m                       Traceback (most recent call last)",
            "Cell \u001b[1;32mIn[3], line 1\u001b[0m\n\u001b[1;32m----> 1\u001b[0m \u001b[38;5;28;01mfrom\u001b[39;00m \u001b[38;5;21;01mgoogle\u001b[39;00m\u001b[38;5;21;01m.\u001b[39;00m\u001b[38;5;21;01mcolab\u001b[39;00m \u001b[38;5;28;01mimport\u001b[39;00m drive\n\u001b[0;32m      3\u001b[0m \u001b[38;5;66;03m# Google Drive'ı bağlayın\u001b[39;00m\n\u001b[0;32m      4\u001b[0m drive\u001b[38;5;241m.\u001b[39mmount(\u001b[38;5;124m'\u001b[39m\u001b[38;5;124m/content/drive\u001b[39m\u001b[38;5;124m'\u001b[39m)\n",
            "\u001b[1;31mModuleNotFoundError\u001b[0m: No module named 'google'"
          ]
        }
      ],
      "source": [
        "from google.colab import drive\n",
        "\n",
        "# Google Drive'ı bağlayın\n",
        "drive.mount('/content/drive')"
      ]
    },
    {
      "cell_type": "code",
      "execution_count": 4,
      "metadata": {
        "id": "9Ey7f31-o8Cm"
      },
      "outputs": [],
      "source": [
        "df = pd.read_csv(\"bank.csv\" , sep=\",\", encoding='utf-8')"
      ]
    },
    {
      "cell_type": "code",
      "execution_count": 5,
      "metadata": {
        "colab": {
          "base_uri": "https://localhost:8080/",
          "height": 206
        },
        "id": "1ZBtuhWmqC2-",
        "outputId": "df1764a7-e9db-4610-9d38-206e457f9b14"
      },
      "outputs": [
        {
          "data": {
            "text/html": [
              "<div>\n",
              "<style scoped>\n",
              "    .dataframe tbody tr th:only-of-type {\n",
              "        vertical-align: middle;\n",
              "    }\n",
              "\n",
              "    .dataframe tbody tr th {\n",
              "        vertical-align: top;\n",
              "    }\n",
              "\n",
              "    .dataframe thead th {\n",
              "        text-align: right;\n",
              "    }\n",
              "</style>\n",
              "<table border=\"1\" class=\"dataframe\">\n",
              "  <thead>\n",
              "    <tr style=\"text-align: right;\">\n",
              "      <th></th>\n",
              "      <th>age</th>\n",
              "      <th>job</th>\n",
              "      <th>marital</th>\n",
              "      <th>education</th>\n",
              "      <th>default</th>\n",
              "      <th>balance</th>\n",
              "      <th>housing</th>\n",
              "      <th>loan</th>\n",
              "      <th>contact</th>\n",
              "      <th>day</th>\n",
              "      <th>month</th>\n",
              "      <th>duration</th>\n",
              "      <th>campaign</th>\n",
              "      <th>pdays</th>\n",
              "      <th>previous</th>\n",
              "      <th>poutcome</th>\n",
              "      <th>deposit</th>\n",
              "    </tr>\n",
              "  </thead>\n",
              "  <tbody>\n",
              "    <tr>\n",
              "      <th>0</th>\n",
              "      <td>59</td>\n",
              "      <td>admin.</td>\n",
              "      <td>married</td>\n",
              "      <td>secondary</td>\n",
              "      <td>no</td>\n",
              "      <td>2343</td>\n",
              "      <td>yes</td>\n",
              "      <td>no</td>\n",
              "      <td>unknown</td>\n",
              "      <td>5</td>\n",
              "      <td>may</td>\n",
              "      <td>1042</td>\n",
              "      <td>1</td>\n",
              "      <td>-1</td>\n",
              "      <td>0</td>\n",
              "      <td>unknown</td>\n",
              "      <td>yes</td>\n",
              "    </tr>\n",
              "    <tr>\n",
              "      <th>1</th>\n",
              "      <td>56</td>\n",
              "      <td>admin.</td>\n",
              "      <td>married</td>\n",
              "      <td>secondary</td>\n",
              "      <td>no</td>\n",
              "      <td>45</td>\n",
              "      <td>no</td>\n",
              "      <td>no</td>\n",
              "      <td>unknown</td>\n",
              "      <td>5</td>\n",
              "      <td>may</td>\n",
              "      <td>1467</td>\n",
              "      <td>1</td>\n",
              "      <td>-1</td>\n",
              "      <td>0</td>\n",
              "      <td>unknown</td>\n",
              "      <td>yes</td>\n",
              "    </tr>\n",
              "    <tr>\n",
              "      <th>2</th>\n",
              "      <td>41</td>\n",
              "      <td>technician</td>\n",
              "      <td>married</td>\n",
              "      <td>secondary</td>\n",
              "      <td>no</td>\n",
              "      <td>1270</td>\n",
              "      <td>yes</td>\n",
              "      <td>no</td>\n",
              "      <td>unknown</td>\n",
              "      <td>5</td>\n",
              "      <td>may</td>\n",
              "      <td>1389</td>\n",
              "      <td>1</td>\n",
              "      <td>-1</td>\n",
              "      <td>0</td>\n",
              "      <td>unknown</td>\n",
              "      <td>yes</td>\n",
              "    </tr>\n",
              "    <tr>\n",
              "      <th>3</th>\n",
              "      <td>55</td>\n",
              "      <td>services</td>\n",
              "      <td>married</td>\n",
              "      <td>secondary</td>\n",
              "      <td>no</td>\n",
              "      <td>2476</td>\n",
              "      <td>yes</td>\n",
              "      <td>no</td>\n",
              "      <td>unknown</td>\n",
              "      <td>5</td>\n",
              "      <td>may</td>\n",
              "      <td>579</td>\n",
              "      <td>1</td>\n",
              "      <td>-1</td>\n",
              "      <td>0</td>\n",
              "      <td>unknown</td>\n",
              "      <td>yes</td>\n",
              "    </tr>\n",
              "    <tr>\n",
              "      <th>4</th>\n",
              "      <td>54</td>\n",
              "      <td>admin.</td>\n",
              "      <td>married</td>\n",
              "      <td>tertiary</td>\n",
              "      <td>no</td>\n",
              "      <td>184</td>\n",
              "      <td>no</td>\n",
              "      <td>no</td>\n",
              "      <td>unknown</td>\n",
              "      <td>5</td>\n",
              "      <td>may</td>\n",
              "      <td>673</td>\n",
              "      <td>2</td>\n",
              "      <td>-1</td>\n",
              "      <td>0</td>\n",
              "      <td>unknown</td>\n",
              "      <td>yes</td>\n",
              "    </tr>\n",
              "  </tbody>\n",
              "</table>\n",
              "</div>"
            ],
            "text/plain": [
              "   age         job  marital  education default  balance housing loan  contact  \\\n",
              "0   59      admin.  married  secondary      no     2343     yes   no  unknown   \n",
              "1   56      admin.  married  secondary      no       45      no   no  unknown   \n",
              "2   41  technician  married  secondary      no     1270     yes   no  unknown   \n",
              "3   55    services  married  secondary      no     2476     yes   no  unknown   \n",
              "4   54      admin.  married   tertiary      no      184      no   no  unknown   \n",
              "\n",
              "   day month  duration  campaign  pdays  previous poutcome deposit  \n",
              "0    5   may      1042         1     -1         0  unknown     yes  \n",
              "1    5   may      1467         1     -1         0  unknown     yes  \n",
              "2    5   may      1389         1     -1         0  unknown     yes  \n",
              "3    5   may       579         1     -1         0  unknown     yes  \n",
              "4    5   may       673         2     -1         0  unknown     yes  "
            ]
          },
          "execution_count": 5,
          "metadata": {},
          "output_type": "execute_result"
        }
      ],
      "source": [
        "df.head()"
      ]
    },
    {
      "cell_type": "code",
      "execution_count": 6,
      "metadata": {
        "colab": {
          "base_uri": "https://localhost:8080/"
        },
        "id": "pZ2t4LboqRdv",
        "outputId": "c02963a8-ed61-483e-b1e5-55ac5655f632"
      },
      "outputs": [
        {
          "name": "stdout",
          "output_type": "stream",
          "text": [
            "<class 'pandas.core.frame.DataFrame'>\n",
            "RangeIndex: 11162 entries, 0 to 11161\n",
            "Data columns (total 17 columns):\n",
            " #   Column     Non-Null Count  Dtype \n",
            "---  ------     --------------  ----- \n",
            " 0   age        11162 non-null  int64 \n",
            " 1   job        11162 non-null  object\n",
            " 2   marital    11162 non-null  object\n",
            " 3   education  11162 non-null  object\n",
            " 4   default    11162 non-null  object\n",
            " 5   balance    11162 non-null  int64 \n",
            " 6   housing    11162 non-null  object\n",
            " 7   loan       11162 non-null  object\n",
            " 8   contact    11162 non-null  object\n",
            " 9   day        11162 non-null  int64 \n",
            " 10  month      11162 non-null  object\n",
            " 11  duration   11162 non-null  int64 \n",
            " 12  campaign   11162 non-null  int64 \n",
            " 13  pdays      11162 non-null  int64 \n",
            " 14  previous   11162 non-null  int64 \n",
            " 15  poutcome   11162 non-null  object\n",
            " 16  deposit    11162 non-null  object\n",
            "dtypes: int64(7), object(10)\n",
            "memory usage: 1.4+ MB\n"
          ]
        }
      ],
      "source": [
        "df.info()"
      ]
    },
    {
      "cell_type": "code",
      "execution_count": 7,
      "metadata": {
        "colab": {
          "base_uri": "https://localhost:8080/",
          "height": 466
        },
        "id": "bQ-0eCd8qfHf",
        "outputId": "5f52e415-df03-4780-d9fa-abba511e5d60"
      },
      "outputs": [
        {
          "data": {
            "text/plain": [
              "<Axes: xlabel='age', ylabel='Count'>"
            ]
          },
          "execution_count": 7,
          "metadata": {},
          "output_type": "execute_result"
        },
        {
          "data": {
            "image/png": "[encoded data removed]",
            "text/plain": [
              "<Figure size 640x480 with 1 Axes>"
            ]
          },
          "metadata": {},
          "output_type": "display_data"
        }
      ],
      "source": [
        "sns.histplot(x=\"age\",data=df ,color = 'rosybrown')"
      ]
    },
    {
      "cell_type": "markdown",
      "metadata": {
        "id": "2DgsbMCgq0E2"
      },
      "source": [
        "Datatype sadece sayısal değer olanları seç"
      ]
    },
    {
      "cell_type": "code",
      "execution_count": 9,
      "metadata": {
        "id": "T0e6mAxYqw2h"
      },
      "outputs": [],
      "source": [
        "numeric_df = df.select_dtypes(include=[np.number])"
      ]
    },
    {
      "cell_type": "code",
      "execution_count": 10,
      "metadata": {
        "colab": {
          "base_uri": "https://localhost:8080/",
          "height": 507
        },
        "id": "keMbm93fq7SM",
        "outputId": "2de4c396-2807-4527-a763-da0a2dcc350b"
      },
      "outputs": [
        {
          "data": {
            "text/plain": [
              "<Axes: >"
            ]
          },
          "execution_count": 10,
          "metadata": {},
          "output_type": "execute_result"
        },
        {
          "data": {
            "image/png": "[encoded data removed]",
            "text/plain": [
              "<Figure size 640x480 with 2 Axes>"
            ]
          },
          "metadata": {},
          "output_type": "display_data"
        }
      ],
      "source": [
        "# Korelasyon matrisini çiz\n",
        "sns.heatmap(numeric_df.corr(), annot=True)"
      ]
    },
    {
      "cell_type": "code",
      "execution_count": 11,
      "metadata": {
        "colab": {
          "base_uri": "https://localhost:8080/"
        },
        "id": "yT34mEwXrJwE",
        "outputId": "0c76140f-945d-4fc1-d1fb-1321aa1aa11e"
      },
      "outputs": [
        {
          "data": {
            "text/plain": [
              "age          0.0\n",
              "job          0.0\n",
              "marital      0.0\n",
              "education    0.0\n",
              "default      0.0\n",
              "balance      0.0\n",
              "housing      0.0\n",
              "loan         0.0\n",
              "contact      0.0\n",
              "day          0.0\n",
              "month        0.0\n",
              "duration     0.0\n",
              "campaign     0.0\n",
              "pdays        0.0\n",
              "previous     0.0\n",
              "poutcome     0.0\n",
              "deposit      0.0\n",
              "dtype: float64"
            ]
          },
          "execution_count": 11,
          "metadata": {},
          "output_type": "execute_result"
        }
      ],
      "source": [
        "#DataSeti içerisinde Empty Simple sayısı\n",
        "df.isnull().sum()/df.shape[0]"
      ]
    },
    {
      "cell_type": "code",
      "execution_count": 12,
      "metadata": {
        "id": "53PWTl8erQP5"
      },
      "outputs": [],
      "source": [
        "#Veri tabanı içerisinde kolonları tek tek gezerek içerisinde bulunan nesnel (string vb.) değerleri\n",
        "#Sayısal Değerlere Dönüştürmek için\n",
        "le = LabelEncoder()\n",
        "\n",
        "for i in df.select_dtypes('object').columns:\n",
        "    df[i] = le.fit_transform(df[i])"
      ]
    },
    {
      "cell_type": "code",
      "execution_count": 13,
      "metadata": {
        "colab": {
          "base_uri": "https://localhost:8080/",
          "height": 423
        },
        "id": "FClNaEKZrZlk",
        "outputId": "8385553d-61d1-41ee-8bb6-58e53057dfe6"
      },
      "outputs": [
        {
          "data": {
            "text/html": [
              "<div>\n",
              "<style scoped>\n",
              "    .dataframe tbody tr th:only-of-type {\n",
              "        vertical-align: middle;\n",
              "    }\n",
              "\n",
              "    .dataframe tbody tr th {\n",
              "        vertical-align: top;\n",
              "    }\n",
              "\n",
              "    .dataframe thead th {\n",
              "        text-align: right;\n",
              "    }\n",
              "</style>\n",
              "<table border=\"1\" class=\"dataframe\">\n",
              "  <thead>\n",
              "    <tr style=\"text-align: right;\">\n",
              "      <th></th>\n",
              "      <th>age</th>\n",
              "      <th>job</th>\n",
              "      <th>marital</th>\n",
              "      <th>education</th>\n",
              "      <th>default</th>\n",
              "      <th>balance</th>\n",
              "      <th>housing</th>\n",
              "      <th>loan</th>\n",
              "      <th>contact</th>\n",
              "      <th>day</th>\n",
              "      <th>month</th>\n",
              "      <th>duration</th>\n",
              "      <th>campaign</th>\n",
              "      <th>pdays</th>\n",
              "      <th>previous</th>\n",
              "      <th>poutcome</th>\n",
              "      <th>deposit</th>\n",
              "    </tr>\n",
              "  </thead>\n",
              "  <tbody>\n",
              "    <tr>\n",
              "      <th>0</th>\n",
              "      <td>59</td>\n",
              "      <td>0</td>\n",
              "      <td>1</td>\n",
              "      <td>1</td>\n",
              "      <td>0</td>\n",
              "      <td>2343</td>\n",
              "      <td>1</td>\n",
              "      <td>0</td>\n",
              "      <td>2</td>\n",
              "      <td>5</td>\n",
              "      <td>8</td>\n",
              "      <td>1042</td>\n",
              "      <td>1</td>\n",
              "      <td>-1</td>\n",
              "      <td>0</td>\n",
              "      <td>3</td>\n",
              "      <td>1</td>\n",
              "    </tr>\n",
              "    <tr>\n",
              "      <th>1</th>\n",
              "      <td>56</td>\n",
              "      <td>0</td>\n",
              "      <td>1</td>\n",
              "      <td>1</td>\n",
              "      <td>0</td>\n",
              "      <td>45</td>\n",
              "      <td>0</td>\n",
              "      <td>0</td>\n",
              "      <td>2</td>\n",
              "      <td>5</td>\n",
              "      <td>8</td>\n",
              "      <td>1467</td>\n",
              "      <td>1</td>\n",
              "      <td>-1</td>\n",
              "      <td>0</td>\n",
              "      <td>3</td>\n",
              "      <td>1</td>\n",
              "    </tr>\n",
              "    <tr>\n",
              "      <th>2</th>\n",
              "      <td>41</td>\n",
              "      <td>9</td>\n",
              "      <td>1</td>\n",
              "      <td>1</td>\n",
              "      <td>0</td>\n",
              "      <td>1270</td>\n",
              "      <td>1</td>\n",
              "      <td>0</td>\n",
              "      <td>2</td>\n",
              "      <td>5</td>\n",
              "      <td>8</td>\n",
              "      <td>1389</td>\n",
              "      <td>1</td>\n",
              "      <td>-1</td>\n",
              "      <td>0</td>\n",
              "      <td>3</td>\n",
              "      <td>1</td>\n",
              "    </tr>\n",
              "    <tr>\n",
              "      <th>3</th>\n",
              "      <td>55</td>\n",
              "      <td>7</td>\n",
              "      <td>1</td>\n",
              "      <td>1</td>\n",
              "      <td>0</td>\n",
              "      <td>2476</td>\n",
              "      <td>1</td>\n",
              "      <td>0</td>\n",
              "      <td>2</td>\n",
              "      <td>5</td>\n",
              "      <td>8</td>\n",
              "      <td>579</td>\n",
              "      <td>1</td>\n",
              "      <td>-1</td>\n",
              "      <td>0</td>\n",
              "      <td>3</td>\n",
              "      <td>1</td>\n",
              "    </tr>\n",
              "    <tr>\n",
              "      <th>4</th>\n",
              "      <td>54</td>\n",
              "      <td>0</td>\n",
              "      <td>1</td>\n",
              "      <td>2</td>\n",
              "      <td>0</td>\n",
              "      <td>184</td>\n",
              "      <td>0</td>\n",
              "      <td>0</td>\n",
              "      <td>2</td>\n",
              "      <td>5</td>\n",
              "      <td>8</td>\n",
              "      <td>673</td>\n",
              "      <td>2</td>\n",
              "      <td>-1</td>\n",
              "      <td>0</td>\n",
              "      <td>3</td>\n",
              "      <td>1</td>\n",
              "    </tr>\n",
              "    <tr>\n",
              "      <th>...</th>\n",
              "      <td>...</td>\n",
              "      <td>...</td>\n",
              "      <td>...</td>\n",
              "      <td>...</td>\n",
              "      <td>...</td>\n",
              "      <td>...</td>\n",
              "      <td>...</td>\n",
              "      <td>...</td>\n",
              "      <td>...</td>\n",
              "      <td>...</td>\n",
              "      <td>...</td>\n",
              "      <td>...</td>\n",
              "      <td>...</td>\n",
              "      <td>...</td>\n",
              "      <td>...</td>\n",
              "      <td>...</td>\n",
              "      <td>...</td>\n",
              "    </tr>\n",
              "    <tr>\n",
              "      <th>11157</th>\n",
              "      <td>33</td>\n",
              "      <td>1</td>\n",
              "      <td>2</td>\n",
              "      <td>0</td>\n",
              "      <td>0</td>\n",
              "      <td>1</td>\n",
              "      <td>1</td>\n",
              "      <td>0</td>\n",
              "      <td>0</td>\n",
              "      <td>20</td>\n",
              "      <td>0</td>\n",
              "      <td>257</td>\n",
              "      <td>1</td>\n",
              "      <td>-1</td>\n",
              "      <td>0</td>\n",
              "      <td>3</td>\n",
              "      <td>0</td>\n",
              "    </tr>\n",
              "    <tr>\n",
              "      <th>11158</th>\n",
              "      <td>39</td>\n",
              "      <td>7</td>\n",
              "      <td>1</td>\n",
              "      <td>1</td>\n",
              "      <td>0</td>\n",
              "      <td>733</td>\n",
              "      <td>0</td>\n",
              "      <td>0</td>\n",
              "      <td>2</td>\n",
              "      <td>16</td>\n",
              "      <td>6</td>\n",
              "      <td>83</td>\n",
              "      <td>4</td>\n",
              "      <td>-1</td>\n",
              "      <td>0</td>\n",
              "      <td>3</td>\n",
              "      <td>0</td>\n",
              "    </tr>\n",
              "    <tr>\n",
              "      <th>11159</th>\n",
              "      <td>32</td>\n",
              "      <td>9</td>\n",
              "      <td>2</td>\n",
              "      <td>1</td>\n",
              "      <td>0</td>\n",
              "      <td>29</td>\n",
              "      <td>0</td>\n",
              "      <td>0</td>\n",
              "      <td>0</td>\n",
              "      <td>19</td>\n",
              "      <td>1</td>\n",
              "      <td>156</td>\n",
              "      <td>2</td>\n",
              "      <td>-1</td>\n",
              "      <td>0</td>\n",
              "      <td>3</td>\n",
              "      <td>0</td>\n",
              "    </tr>\n",
              "    <tr>\n",
              "      <th>11160</th>\n",
              "      <td>43</td>\n",
              "      <td>9</td>\n",
              "      <td>1</td>\n",
              "      <td>1</td>\n",
              "      <td>0</td>\n",
              "      <td>0</td>\n",
              "      <td>0</td>\n",
              "      <td>1</td>\n",
              "      <td>0</td>\n",
              "      <td>8</td>\n",
              "      <td>8</td>\n",
              "      <td>9</td>\n",
              "      <td>2</td>\n",
              "      <td>172</td>\n",
              "      <td>5</td>\n",
              "      <td>0</td>\n",
              "      <td>0</td>\n",
              "    </tr>\n",
              "    <tr>\n",
              "      <th>11161</th>\n",
              "      <td>34</td>\n",
              "      <td>9</td>\n",
              "      <td>1</td>\n",
              "      <td>1</td>\n",
              "      <td>0</td>\n",
              "      <td>0</td>\n",
              "      <td>0</td>\n",
              "      <td>0</td>\n",
              "      <td>0</td>\n",
              "      <td>9</td>\n",
              "      <td>5</td>\n",
              "      <td>628</td>\n",
              "      <td>1</td>\n",
              "      <td>-1</td>\n",
              "      <td>0</td>\n",
              "      <td>3</td>\n",
              "      <td>0</td>\n",
              "    </tr>\n",
              "  </tbody>\n",
              "</table>\n",
              "<p>11162 rows × 17 columns</p>\n",
              "</div>"
            ],
            "text/plain": [
              "       age  job  marital  education  default  balance  housing  loan  contact  \\\n",
              "0       59    0        1          1        0     2343        1     0        2   \n",
              "1       56    0        1          1        0       45        0     0        2   \n",
              "2       41    9        1          1        0     1270        1     0        2   \n",
              "3       55    7        1          1        0     2476        1     0        2   \n",
              "4       54    0        1          2        0      184        0     0        2   \n",
              "...    ...  ...      ...        ...      ...      ...      ...   ...      ...   \n",
              "11157   33    1        2          0        0        1        1     0        0   \n",
              "11158   39    7        1          1        0      733        0     0        2   \n",
              "11159   32    9        2          1        0       29        0     0        0   \n",
              "11160   43    9        1          1        0        0        0     1        0   \n",
              "11161   34    9        1          1        0        0        0     0        0   \n",
              "\n",
              "       day  month  duration  campaign  pdays  previous  poutcome  deposit  \n",
              "0        5      8      1042         1     -1         0         3        1  \n",
              "1        5      8      1467         1     -1         0         3        1  \n",
              "2        5      8      1389         1     -1         0         3        1  \n",
              "3        5      8       579         1     -1         0         3        1  \n",
              "4        5      8       673         2     -1         0         3        1  \n",
              "...    ...    ...       ...       ...    ...       ...       ...      ...  \n",
              "11157   20      0       257         1     -1         0         3        0  \n",
              "11158   16      6        83         4     -1         0         3        0  \n",
              "11159   19      1       156         2     -1         0         3        0  \n",
              "11160    8      8         9         2    172         5         0        0  \n",
              "11161    9      5       628         1     -1         0         3        0  \n",
              "\n",
              "[11162 rows x 17 columns]"
            ]
          },
          "execution_count": 13,
          "metadata": {},
          "output_type": "execute_result"
        }
      ],
      "source": [
        "#Data setindeki tüm columları görebilmek için\n",
        " # Tüm sütunları göster\n",
        "pd.set_option('display.max_columns', None)\n",
        " # 10 satır göster\n",
        "pd.set_option('display.max_rows', 10)     # 10 satır göster\n",
        "## print(df)\n",
        "#Datasetini sayısal verilere dönüştürülmüş halini saveledik\n",
        "df.to_csv(\"output.csv\", index=False)\n",
        "##print(df.columns)\n",
        "df"
      ]
    },
    {
      "cell_type": "code",
      "execution_count": 16,
      "metadata": {
        "id": "2TgtxkL2rz3n"
      },
      "outputs": [],
      "source": [
        "x = df.drop([ 'contact', 'day', 'month','pdays','previous','deposit'],axis =1)\n",
        "y = df[\"deposit\"]"
      ]
    },
    {
      "cell_type": "code",
      "execution_count": 14,
      "metadata": {
        "id": "Gb4uRUnEr8Oc"
      },
      "outputs": [],
      "source": [
        "#StandardScaler, veri özelliklerini (örneğin, sütunlardaki değerleri) ortalama değeri\n",
        "#0 ve standart sapması 1 olacak şekilde ölçeklendirmeye yarayan bir ölçeklendirme yöntemidir. Bu işlem, veriye aynı ölçekte bakmayı\n",
        "#sağlar ve bazı makine öğrenimi algoritmalarının daha iyi performans göstermesine yardımcı olur.\n",
        "st = StandardScaler()\n",
        "df[\"balance\"] = st.fit_transform(df[[\"balance\"]])\n",
        "df[\"duration\"] = st.fit_transform(df[[\"duration\"]])"
      ]
    },
    {
      "cell_type": "code",
      "execution_count": 17,
      "metadata": {
        "colab": {
          "base_uri": "https://localhost:8080/"
        },
        "id": "emgL5WzWsTm1",
        "outputId": "f971c97e-b26f-4911-8768-5fe9af4b1235"
      },
      "outputs": [
        {
          "name": "stdout",
          "output_type": "stream",
          "text": [
            "(11162, 11)\n",
            "(8371, 11)\n",
            "(2791, 11)\n",
            "(11162,)\n",
            "(8371,)\n",
            "(2791,)\n"
          ]
        }
      ],
      "source": [
        "# x_train: Eğitim setindeki bağımsız değişkenlerin değerleri.\n",
        "# x_test: Test setindeki bağımsız değişkenlerin değerleri.\n",
        "# y_train: Eğitim setindeki bağımlı değişkenin değerleri.\n",
        "# y_test: Test setindeki bağımlı değişkenin değerleri.\n",
        "x_train , x_test ,y_train ,y_test =train_test_split(x,y ,test_size=0.25 ,random_state= 42)\n",
        "print(x.shape)\n",
        "print(x_train.shape)\n",
        "print(x_test.shape)\n",
        "print(y.shape)\n",
        "print(y_train.shape)\n",
        "print(y_test.shape)\n"
      ]
    },
    {
      "cell_type": "code",
      "execution_count": 18,
      "metadata": {
        "id": "3dSAdhiosWfD"
      },
      "outputs": [],
      "source": [
        "def train_evaluate_model(model, x_train, y_train, x_test,y_test):\n",
        "\n",
        "    model.fit(x_train, y_train)  #model eğitme\n",
        "\n",
        "\n",
        "    predictions = model.predict(x_test) # test üzerinden tahmin yapabilme\n",
        "\n",
        "    #metrikler\n",
        "    accuracy = accuracy_score(y_test, predictions)\n",
        "    f1 = f1_score(y_test, predictions)\n",
        "    precision = precision_score(y_test, predictions)\n",
        "    recall = recall_score(y_test, predictions)\n",
        "    balanced_accuracy = balanced_accuracy_score(y_test, predictions)\n",
        "\n",
        "    #sonuç çıktısı colums\n",
        "    eval_df = pd.DataFrame([[accuracy, f1, precision, recall, balanced_accuracy]], columns=['accuracy', 'f1_score', 'precision', 'recall', 'balanced_accuracy'])\n",
        "    return eval_df\n",
        "\n",
        "\n",
        "\n"
      ]
    },
    {
      "cell_type": "markdown",
      "metadata": {
        "id": "ebsy9ZbzyfyN"
      },
      "source": [
        "MODEL 1"
      ]
    },
    {
      "cell_type": "code",
      "execution_count": 19,
      "metadata": {
        "colab": {
          "base_uri": "https://localhost:8080/",
          "height": 81
        },
        "id": "oHOO_M6Wydn1",
        "outputId": "1ffb8d97-abe0-4ff8-e008-a8a38949b759"
      },
      "outputs": [
        {
          "data": {
            "text/html": [
              "<style type=\"text/css\">\n",
              "#T_faa12_row0_col0, #T_faa12_row0_col1, #T_faa12_row0_col2, #T_faa12_row0_col3, #T_faa12_row0_col4 {\n",
              "  background-color: #e3d9c1;\n",
              "  color: #000000;\n",
              "}\n",
              "</style>\n",
              "<table id=\"T_faa12\">\n",
              "  <thead>\n",
              "    <tr>\n",
              "      <th class=\"blank level0\" >&nbsp;</th>\n",
              "      <th id=\"T_faa12_level0_col0\" class=\"col_heading level0 col0\" >accuracy</th>\n",
              "      <th id=\"T_faa12_level0_col1\" class=\"col_heading level0 col1\" >f1_score</th>\n",
              "      <th id=\"T_faa12_level0_col2\" class=\"col_heading level0 col2\" >precision</th>\n",
              "      <th id=\"T_faa12_level0_col3\" class=\"col_heading level0 col3\" >recall</th>\n",
              "      <th id=\"T_faa12_level0_col4\" class=\"col_heading level0 col4\" >balanced_accuracy</th>\n",
              "    </tr>\n",
              "  </thead>\n",
              "  <tbody>\n",
              "    <tr>\n",
              "      <th id=\"T_faa12_level0_row0\" class=\"row_heading level0 row0\" >LogisticRegression</th>\n",
              "      <td id=\"T_faa12_row0_col0\" class=\"data row0 col0\" >0.764601</td>\n",
              "      <td id=\"T_faa12_row0_col1\" class=\"data row0 col1\" >0.745841</td>\n",
              "      <td id=\"T_faa12_row0_col2\" class=\"data row0 col2\" >0.774920</td>\n",
              "      <td id=\"T_faa12_row0_col3\" class=\"data row0 col3\" >0.718867</td>\n",
              "      <td id=\"T_faa12_row0_col4\" class=\"data row0 col4\" >0.762882</td>\n",
              "    </tr>\n",
              "  </tbody>\n",
              "</table>\n"
            ],
            "text/plain": [
              "<pandas.io.formats.style.Styler at 0x20359b3f2c0>"
            ]
          },
          "execution_count": 19,
          "metadata": {},
          "output_type": "execute_result"
        }
      ],
      "source": [
        "   ##Logistic Regression\n",
        "\n",
        "lg = LogisticRegression(penalty =\"l2\" ,C=0.5)\n",
        "\n",
        "results = train_evaluate_model(lg, x_train, y_train, x_test, y_test)\n",
        "\n",
        "results.index = ['LogisticRegression']\n",
        "\n",
        "results.sort_values(by='f1_score',ascending=False).style.background_gradient(cmap = sns.color_palette(\"ch:s=-.2,r=.6\", as_cmap=True))"
      ]
    },
    {
      "cell_type": "markdown",
      "metadata": {
        "id": "-Zkt-Kb1yVX3"
      },
      "source": [
        "MODEL 2"
      ]
    },
    {
      "cell_type": "code",
      "execution_count": 24,
      "metadata": {
        "colab": {
          "base_uri": "https://localhost:8080/",
          "height": 112
        },
        "id": "F6UDwTtKsm6N",
        "outputId": "15178caf-909a-46a1-c5a9-1ded10d46090"
      },
      "outputs": [
        {
          "ename": "AttributeError",
          "evalue": "'DataFrame' object has no attribute 'append'",
          "output_type": "error",
          "traceback": [
            "\u001b[1;31m---------------------------------------------------------------------------\u001b[0m",
            "\u001b[1;31mAttributeError\u001b[0m                            Traceback (most recent call last)",
            "\u001b[1;32m~\\AppData\\Local\\Temp\\ipykernel_3816\\1765810182.py\u001b[0m in \u001b[0;36m?\u001b[1;34m()\u001b[0m\n\u001b[0;32m      2\u001b[0m \u001b[0mdecision_tree_results\u001b[0m \u001b[1;33m=\u001b[0m \u001b[0mtrain_evaluate_model\u001b[0m\u001b[1;33m(\u001b[0m\u001b[0mdecision_tree\u001b[0m\u001b[1;33m,\u001b[0m\u001b[0mx_train\u001b[0m\u001b[1;33m,\u001b[0m \u001b[0my_train\u001b[0m\u001b[1;33m,\u001b[0m \u001b[0mx_test\u001b[0m\u001b[1;33m,\u001b[0m \u001b[0my_test\u001b[0m\u001b[1;33m)\u001b[0m\u001b[1;33m\u001b[0m\u001b[1;33m\u001b[0m\u001b[0m\n\u001b[0;32m      3\u001b[0m \u001b[1;33m\u001b[0m\u001b[0m\n\u001b[0;32m      4\u001b[0m \u001b[0mdecision_tree_results\u001b[0m\u001b[1;33m.\u001b[0m\u001b[0mindex\u001b[0m \u001b[1;33m=\u001b[0m \u001b[1;33m[\u001b[0m\u001b[1;34m'DecisionTree'\u001b[0m\u001b[1;33m]\u001b[0m\u001b[1;33m\u001b[0m\u001b[1;33m\u001b[0m\u001b[0m\n\u001b[0;32m      5\u001b[0m \u001b[1;33m\u001b[0m\u001b[0m\n\u001b[1;32m----> 6\u001b[1;33m \u001b[0mresults\u001b[0m \u001b[1;33m=\u001b[0m \u001b[0mresults\u001b[0m\u001b[1;33m.\u001b[0m\u001b[0mappend\u001b[0m\u001b[1;33m(\u001b[0m\u001b[0mdecision_tree_results\u001b[0m\u001b[1;33m)\u001b[0m\u001b[1;33m\u001b[0m\u001b[1;33m\u001b[0m\u001b[0m\n\u001b[0m\u001b[0;32m      7\u001b[0m \u001b[0mresults\u001b[0m\u001b[1;33m.\u001b[0m\u001b[0msort_values\u001b[0m\u001b[1;33m(\u001b[0m\u001b[0mby\u001b[0m\u001b[1;33m=\u001b[0m\u001b[1;34m'f1_score'\u001b[0m\u001b[1;33m,\u001b[0m\u001b[0mascending\u001b[0m\u001b[1;33m=\u001b[0m\u001b[1;32mFalse\u001b[0m\u001b[1;33m)\u001b[0m\u001b[1;33m.\u001b[0m\u001b[0mstyle\u001b[0m\u001b[1;33m.\u001b[0m\u001b[0mbackground_gradient\u001b[0m\u001b[1;33m(\u001b[0m\u001b[0mcmap\u001b[0m \u001b[1;33m=\u001b[0m \u001b[0msns\u001b[0m\u001b[1;33m.\u001b[0m\u001b[0mcolor_palette\u001b[0m\u001b[1;33m(\u001b[0m\u001b[1;34m\"ch:s=-.2,r=.6\"\u001b[0m\u001b[1;33m,\u001b[0m \u001b[0mas_cmap\u001b[0m\u001b[1;33m=\u001b[0m\u001b[1;32mTrue\u001b[0m\u001b[1;33m)\u001b[0m\u001b[1;33m)\u001b[0m\u001b[1;33m\u001b[0m\u001b[1;33m\u001b[0m\u001b[0m\n",
            "\u001b[1;32mc:\\Users\\aleyy.ALI_T\\AppData\\Local\\Programs\\Python\\Python312\\Lib\\site-packages\\pandas\\core\\generic.py\u001b[0m in \u001b[0;36m?\u001b[1;34m(self, name)\u001b[0m\n\u001b[0;32m   6292\u001b[0m             \u001b[1;32mand\u001b[0m \u001b[0mname\u001b[0m \u001b[1;32mnot\u001b[0m \u001b[1;32min\u001b[0m \u001b[0mself\u001b[0m\u001b[1;33m.\u001b[0m\u001b[0m_accessors\u001b[0m\u001b[1;33m\u001b[0m\u001b[1;33m\u001b[0m\u001b[0m\n\u001b[0;32m   6293\u001b[0m             \u001b[1;32mand\u001b[0m \u001b[0mself\u001b[0m\u001b[1;33m.\u001b[0m\u001b[0m_info_axis\u001b[0m\u001b[1;33m.\u001b[0m\u001b[0m_can_hold_identifiers_and_holds_name\u001b[0m\u001b[1;33m(\u001b[0m\u001b[0mname\u001b[0m\u001b[1;33m)\u001b[0m\u001b[1;33m\u001b[0m\u001b[1;33m\u001b[0m\u001b[0m\n\u001b[0;32m   6294\u001b[0m         \u001b[1;33m)\u001b[0m\u001b[1;33m:\u001b[0m\u001b[1;33m\u001b[0m\u001b[1;33m\u001b[0m\u001b[0m\n\u001b[0;32m   6295\u001b[0m             \u001b[1;32mreturn\u001b[0m \u001b[0mself\u001b[0m\u001b[1;33m[\u001b[0m\u001b[0mname\u001b[0m\u001b[1;33m]\u001b[0m\u001b[1;33m\u001b[0m\u001b[1;33m\u001b[0m\u001b[0m\n\u001b[1;32m-> 6296\u001b[1;33m         \u001b[1;32mreturn\u001b[0m \u001b[0mobject\u001b[0m\u001b[1;33m.\u001b[0m\u001b[0m__getattribute__\u001b[0m\u001b[1;33m(\u001b[0m\u001b[0mself\u001b[0m\u001b[1;33m,\u001b[0m \u001b[0mname\u001b[0m\u001b[1;33m)\u001b[0m\u001b[1;33m\u001b[0m\u001b[1;33m\u001b[0m\u001b[0m\n\u001b[0m",
            "\u001b[1;31mAttributeError\u001b[0m: 'DataFrame' object has no attribute 'append'"
          ]
        }
      ],
      "source": [
        "decision_tree = DecisionTreeClassifier(max_depth= 5,max_features=4)\n",
        "decision_tree_results = train_evaluate_model(decision_tree,x_train, y_train, x_test, y_test)\n",
        "\n",
        "decision_tree_results.index = ['DecisionTree']\n",
        "\n",
        "results = results._append(decision_tree_results)\n",
        "results._sort_values(by='f1_score',ascending=False).style.background_gradient(cmap = sns.color_palette(\"ch:s=-.2,r=.6\", as_cmap=True))\n"
      ]
    },
    {
      "cell_type": "markdown",
      "metadata": {
        "id": "Ib97J6BeyOmi"
      },
      "source": [
        "MODEL 3"
      ]
    },
    {
      "cell_type": "code",
      "execution_count": 40,
      "metadata": {
        "id": "e4n1YdnBo9F3"
      },
      "outputs": [],
      "source": [
        "KNN = KNeighborsClassifier(n_neighbors=13,metric=\"minkowski\")"
      ]
    },
    {
      "cell_type": "code",
      "execution_count": 41,
      "metadata": {
        "id": "NEhwprQlpALw"
      },
      "outputs": [],
      "source": [
        "knn = train_evaluate_model(KNN, x_train, y_train, x_test, y_test)\n",
        "knn.index =['KNearsNeighbors']\n",
        "results = results.append(knn)"
      ]
    },
    {
      "cell_type": "code",
      "execution_count": 42,
      "metadata": {
        "colab": {
          "base_uri": "https://localhost:8080/",
          "height": 143
        },
        "id": "hfHV1BvApEDw",
        "outputId": "f1df2d16-c341-4e37-f74b-dd32736d7df4"
      },
      "outputs": [
        {
          "data": {
            "text/html": [
              "<style type=\"text/css\">\n",
              "#T_3cf4c_row0_col0, #T_3cf4c_row0_col1, #T_3cf4c_row0_col2, #T_3cf4c_row0_col3, #T_3cf4c_row0_col4 {\n",
              "  background-color: #27213f;\n",
              "  color: #f1f1f1;\n",
              "}\n",
              "#T_3cf4c_row1_col0 {\n",
              "  background-color: #ab6684;\n",
              "  color: #f1f1f1;\n",
              "}\n",
              "#T_3cf4c_row1_col1 {\n",
              "  background-color: #965680;\n",
              "  color: #f1f1f1;\n",
              "}\n",
              "#T_3cf4c_row1_col2 {\n",
              "  background-color: #cd9892;\n",
              "  color: #f1f1f1;\n",
              "}\n",
              "#T_3cf4c_row1_col3 {\n",
              "  background-color: #6a3e70;\n",
              "  color: #f1f1f1;\n",
              "}\n",
              "#T_3cf4c_row1_col4 {\n",
              "  background-color: #a86484;\n",
              "  color: #f1f1f1;\n",
              "}\n",
              "#T_3cf4c_row2_col0, #T_3cf4c_row2_col1, #T_3cf4c_row2_col2, #T_3cf4c_row2_col3, #T_3cf4c_row2_col4 {\n",
              "  background-color: #e3d9c1;\n",
              "  color: #000000;\n",
              "}\n",
              "</style>\n",
              "<table id=\"T_3cf4c\" class=\"dataframe\">\n",
              "  <thead>\n",
              "    <tr>\n",
              "      <th class=\"blank level0\" >&nbsp;</th>\n",
              "      <th id=\"T_3cf4c_level0_col0\" class=\"col_heading level0 col0\" >accuracy</th>\n",
              "      <th id=\"T_3cf4c_level0_col1\" class=\"col_heading level0 col1\" >f1_score</th>\n",
              "      <th id=\"T_3cf4c_level0_col2\" class=\"col_heading level0 col2\" >precision</th>\n",
              "      <th id=\"T_3cf4c_level0_col3\" class=\"col_heading level0 col3\" >recall</th>\n",
              "      <th id=\"T_3cf4c_level0_col4\" class=\"col_heading level0 col4\" >balanced_accuracy</th>\n",
              "    </tr>\n",
              "  </thead>\n",
              "  <tbody>\n",
              "    <tr>\n",
              "      <th id=\"T_3cf4c_level0_row0\" class=\"row_heading level0 row0\" >LogisticRegression</th>\n",
              "      <td id=\"T_3cf4c_row0_col0\" class=\"data row0 col0\" >0.766034</td>\n",
              "      <td id=\"T_3cf4c_row0_col1\" class=\"data row0 col1\" >0.747389</td>\n",
              "      <td id=\"T_3cf4c_row0_col2\" class=\"data row0 col2\" >0.776527</td>\n",
              "      <td id=\"T_3cf4c_row0_col3\" class=\"data row0 col3\" >0.720358</td>\n",
              "      <td id=\"T_3cf4c_row0_col4\" class=\"data row0 col4\" >0.764317</td>\n",
              "    </tr>\n",
              "    <tr>\n",
              "      <th id=\"T_3cf4c_level0_row1\" class=\"row_heading level0 row1\" >DecisionTree</th>\n",
              "      <td id=\"T_3cf4c_row1_col0\" class=\"data row1 col0\" >0.748119</td>\n",
              "      <td id=\"T_3cf4c_row1_col1\" class=\"data row1 col1\" >0.729719</td>\n",
              "      <td id=\"T_3cf4c_row1_col2\" class=\"data row1 col2\" >0.753175</td>\n",
              "      <td id=\"T_3cf4c_row1_col3\" class=\"data row1 col3\" >0.707681</td>\n",
              "      <td id=\"T_3cf4c_row1_col4\" class=\"data row1 col4\" >0.746599</td>\n",
              "    </tr>\n",
              "    <tr>\n",
              "      <th id=\"T_3cf4c_level0_row2\" class=\"row_heading level0 row2\" >KNearsNeighbors</th>\n",
              "      <td id=\"T_3cf4c_row2_col0\" class=\"data row2 col0\" >0.729846</td>\n",
              "      <td id=\"T_3cf4c_row2_col1\" class=\"data row2 col1\" >0.703616</td>\n",
              "      <td id=\"T_3cf4c_row2_col2\" class=\"data row2 col2\" >0.743973</td>\n",
              "      <td id=\"T_3cf4c_row2_col3\" class=\"data row2 col3\" >0.667412</td>\n",
              "      <td id=\"T_3cf4c_row2_col4\" class=\"data row2 col4\" >0.727499</td>\n",
              "    </tr>\n",
              "  </tbody>\n",
              "</table>\n"
            ],
            "text/plain": [
              "<pandas.io.formats.style.Styler at 0x7b1c20091db0>"
            ]
          },
          "execution_count": 42,
          "metadata": {},
          "output_type": "execute_result"
        }
      ],
      "source": [
        "results.sort_values(by='f1_score',ascending=False).style.background_gradient(cmap = sns.color_palette(\"ch:s=-.2,r=.6\", as_cmap=True))"
      ]
    },
    {
      "cell_type": "markdown",
      "metadata": {
        "id": "Isg7Iv98yLen"
      },
      "source": [
        "MODEL 4"
      ]
    },
    {
      "cell_type": "code",
      "execution_count": 43,
      "metadata": {
        "colab": {
          "base_uri": "https://localhost:8080/",
          "height": 175
        },
        "id": "hyBk8xSux4mH",
        "outputId": "0acb2b5c-7aa8-44f8-d383-63bb37d47461"
      },
      "outputs": [
        {
          "data": {
            "text/html": [
              "<style type=\"text/css\">\n",
              "#T_53238_row0_col0, #T_53238_row0_col1, #T_53238_row0_col2, #T_53238_row0_col3, #T_53238_row0_col4 {\n",
              "  background-color: #27213f;\n",
              "  color: #f1f1f1;\n",
              "}\n",
              "#T_53238_row1_col0 {\n",
              "  background-color: #a66283;\n",
              "  color: #f1f1f1;\n",
              "}\n",
              "#T_53238_row1_col1 {\n",
              "  background-color: #ab6684;\n",
              "  color: #f1f1f1;\n",
              "}\n",
              "#T_53238_row1_col2 {\n",
              "  background-color: #6a3e70;\n",
              "  color: #f1f1f1;\n",
              "}\n",
              "#T_53238_row1_col3 {\n",
              "  background-color: #bb7889;\n",
              "  color: #f1f1f1;\n",
              "}\n",
              "#T_53238_row1_col4 {\n",
              "  background-color: #a76384;\n",
              "  color: #f1f1f1;\n",
              "}\n",
              "#T_53238_row2_col0, #T_53238_row2_col4 {\n",
              "  background-color: #ce9a93;\n",
              "  color: #f1f1f1;\n",
              "}\n",
              "#T_53238_row2_col1 {\n",
              "  background-color: #cb9290;\n",
              "  color: #f1f1f1;\n",
              "}\n",
              "#T_53238_row2_col2 {\n",
              "  background-color: #d3a799;\n",
              "  color: #000000;\n",
              "}\n",
              "#T_53238_row2_col3 {\n",
              "  background-color: #c98e8f;\n",
              "  color: #f1f1f1;\n",
              "}\n",
              "#T_53238_row3_col0, #T_53238_row3_col1, #T_53238_row3_col2, #T_53238_row3_col3, #T_53238_row3_col4 {\n",
              "  background-color: #e3d9c1;\n",
              "  color: #000000;\n",
              "}\n",
              "</style>\n",
              "<table id=\"T_53238\" class=\"dataframe\">\n",
              "  <thead>\n",
              "    <tr>\n",
              "      <th class=\"blank level0\" >&nbsp;</th>\n",
              "      <th id=\"T_53238_level0_col0\" class=\"col_heading level0 col0\" >accuracy</th>\n",
              "      <th id=\"T_53238_level0_col1\" class=\"col_heading level0 col1\" >f1_score</th>\n",
              "      <th id=\"T_53238_level0_col2\" class=\"col_heading level0 col2\" >precision</th>\n",
              "      <th id=\"T_53238_level0_col3\" class=\"col_heading level0 col3\" >recall</th>\n",
              "      <th id=\"T_53238_level0_col4\" class=\"col_heading level0 col4\" >balanced_accuracy</th>\n",
              "    </tr>\n",
              "  </thead>\n",
              "  <tbody>\n",
              "    <tr>\n",
              "      <th id=\"T_53238_level0_row0\" class=\"row_heading level0 row0\" >RandomForest</th>\n",
              "      <td id=\"T_53238_row0_col0\" class=\"data row0 col0\" >0.797564</td>\n",
              "      <td id=\"T_53238_row0_col1\" class=\"data row0 col1\" >0.790197</td>\n",
              "      <td id=\"T_53238_row0_col2\" class=\"data row0 col2\" >0.786982</td>\n",
              "      <td id=\"T_53238_row0_col3\" class=\"data row0 col3\" >0.793438</td>\n",
              "      <td id=\"T_53238_row0_col4\" class=\"data row0 col4\" >0.797409</td>\n",
              "    </tr>\n",
              "    <tr>\n",
              "      <th id=\"T_53238_level0_row1\" class=\"row_heading level0 row1\" >LogisticRegression</th>\n",
              "      <td id=\"T_53238_row1_col0\" class=\"data row1 col0\" >0.766034</td>\n",
              "      <td id=\"T_53238_row1_col1\" class=\"data row1 col1\" >0.747389</td>\n",
              "      <td id=\"T_53238_row1_col2\" class=\"data row1 col2\" >0.776527</td>\n",
              "      <td id=\"T_53238_row1_col3\" class=\"data row1 col3\" >0.720358</td>\n",
              "      <td id=\"T_53238_row1_col4\" class=\"data row1 col4\" >0.764317</td>\n",
              "    </tr>\n",
              "    <tr>\n",
              "      <th id=\"T_53238_level0_row2\" class=\"row_heading level0 row2\" >DecisionTree</th>\n",
              "      <td id=\"T_53238_row2_col0\" class=\"data row2 col0\" >0.748119</td>\n",
              "      <td id=\"T_53238_row2_col1\" class=\"data row2 col1\" >0.729719</td>\n",
              "      <td id=\"T_53238_row2_col2\" class=\"data row2 col2\" >0.753175</td>\n",
              "      <td id=\"T_53238_row2_col3\" class=\"data row2 col3\" >0.707681</td>\n",
              "      <td id=\"T_53238_row2_col4\" class=\"data row2 col4\" >0.746599</td>\n",
              "    </tr>\n",
              "    <tr>\n",
              "      <th id=\"T_53238_level0_row3\" class=\"row_heading level0 row3\" >KNearsNeighbors</th>\n",
              "      <td id=\"T_53238_row3_col0\" class=\"data row3 col0\" >0.729846</td>\n",
              "      <td id=\"T_53238_row3_col1\" class=\"data row3 col1\" >0.703616</td>\n",
              "      <td id=\"T_53238_row3_col2\" class=\"data row3 col2\" >0.743973</td>\n",
              "      <td id=\"T_53238_row3_col3\" class=\"data row3 col3\" >0.667412</td>\n",
              "      <td id=\"T_53238_row3_col4\" class=\"data row3 col4\" >0.727499</td>\n",
              "    </tr>\n",
              "  </tbody>\n",
              "</table>\n"
            ],
            "text/plain": [
              "<pandas.io.formats.style.Styler at 0x7b1c1af00e20>"
            ]
          },
          "execution_count": 43,
          "metadata": {},
          "output_type": "execute_result"
        }
      ],
      "source": [
        "rfc = RandomForestClassifier(max_features=9, min_samples_split=4, n_estimators=91)\n",
        "rfc_result = train_evaluate_model(rfc, x_train, y_train, x_test, y_test)\n",
        "rfc_result.index = ['RandomForest']\n",
        "\n",
        "results = results.append(rfc_result)\n",
        "results.sort_values(by='f1_score',\n",
        "ascending=False).style.background_gradient(cmap = sns.color_palette(\"ch:s=-.2,r=.6\", as_cmap=True))"
      ]
    },
    {
      "cell_type": "markdown",
      "metadata": {
        "id": "ULhEwwTQyrXw"
      },
      "source": [
        "MODEL 5"
      ]
    },
    {
      "cell_type": "code",
      "execution_count": 44,
      "metadata": {
        "colab": {
          "base_uri": "https://localhost:8080/",
          "height": 206
        },
        "id": "BI3ku7z5yrAt",
        "outputId": "9d09f99f-94d6-41a5-aea1-8605df771b90"
      },
      "outputs": [
        {
          "data": {
            "text/html": [
              "<style type=\"text/css\">\n",
              "#T_8c193_row0_col0, #T_8c193_row0_col1, #T_8c193_row0_col2, #T_8c193_row0_col4, #T_8c193_row1_col3 {\n",
              "  background-color: #27213f;\n",
              "  color: #f1f1f1;\n",
              "}\n",
              "#T_8c193_row0_col3 {\n",
              "  background-color: #33264b;\n",
              "  color: #f1f1f1;\n",
              "}\n",
              "#T_8c193_row1_col0 {\n",
              "  background-color: #302548;\n",
              "  color: #f1f1f1;\n",
              "}\n",
              "#T_8c193_row1_col1 {\n",
              "  background-color: #292141;\n",
              "  color: #f1f1f1;\n",
              "}\n",
              "#T_8c193_row1_col2 {\n",
              "  background-color: #583767;\n",
              "  color: #f1f1f1;\n",
              "}\n",
              "#T_8c193_row1_col4 {\n",
              "  background-color: #2e2447;\n",
              "  color: #f1f1f1;\n",
              "}\n",
              "#T_8c193_row2_col0 {\n",
              "  background-color: #a66283;\n",
              "  color: #f1f1f1;\n",
              "}\n",
              "#T_8c193_row2_col1 {\n",
              "  background-color: #ab6684;\n",
              "  color: #f1f1f1;\n",
              "}\n",
              "#T_8c193_row2_col2 {\n",
              "  background-color: #6a3e70;\n",
              "  color: #f1f1f1;\n",
              "}\n",
              "#T_8c193_row2_col3 {\n",
              "  background-color: #be7c89;\n",
              "  color: #f1f1f1;\n",
              "}\n",
              "#T_8c193_row2_col4 {\n",
              "  background-color: #a76384;\n",
              "  color: #f1f1f1;\n",
              "}\n",
              "#T_8c193_row3_col0, #T_8c193_row3_col4 {\n",
              "  background-color: #ce9a93;\n",
              "  color: #f1f1f1;\n",
              "}\n",
              "#T_8c193_row3_col1, #T_8c193_row3_col3 {\n",
              "  background-color: #cb9290;\n",
              "  color: #f1f1f1;\n",
              "}\n",
              "#T_8c193_row3_col2 {\n",
              "  background-color: #d3a799;\n",
              "  color: #000000;\n",
              "}\n",
              "#T_8c193_row4_col0, #T_8c193_row4_col1, #T_8c193_row4_col2, #T_8c193_row4_col3, #T_8c193_row4_col4 {\n",
              "  background-color: #e3d9c1;\n",
              "  color: #000000;\n",
              "}\n",
              "</style>\n",
              "<table id=\"T_8c193\" class=\"dataframe\">\n",
              "  <thead>\n",
              "    <tr>\n",
              "      <th class=\"blank level0\" >&nbsp;</th>\n",
              "      <th id=\"T_8c193_level0_col0\" class=\"col_heading level0 col0\" >accuracy</th>\n",
              "      <th id=\"T_8c193_level0_col1\" class=\"col_heading level0 col1\" >f1_score</th>\n",
              "      <th id=\"T_8c193_level0_col2\" class=\"col_heading level0 col2\" >precision</th>\n",
              "      <th id=\"T_8c193_level0_col3\" class=\"col_heading level0 col3\" >recall</th>\n",
              "      <th id=\"T_8c193_level0_col4\" class=\"col_heading level0 col4\" >balanced_accuracy</th>\n",
              "    </tr>\n",
              "  </thead>\n",
              "  <tbody>\n",
              "    <tr>\n",
              "      <th id=\"T_8c193_level0_row0\" class=\"row_heading level0 row0\" >RandomForest</th>\n",
              "      <td id=\"T_8c193_row0_col0\" class=\"data row0 col0\" >0.797564</td>\n",
              "      <td id=\"T_8c193_row0_col1\" class=\"data row0 col1\" >0.790197</td>\n",
              "      <td id=\"T_8c193_row0_col2\" class=\"data row0 col2\" >0.786982</td>\n",
              "      <td id=\"T_8c193_row0_col3\" class=\"data row0 col3\" >0.793438</td>\n",
              "      <td id=\"T_8c193_row0_col4\" class=\"data row0 col4\" >0.797409</td>\n",
              "    </tr>\n",
              "    <tr>\n",
              "      <th id=\"T_8c193_level0_row1\" class=\"row_heading level0 row1\" >XGBoost</th>\n",
              "      <td id=\"T_8c193_row1_col0\" class=\"data row1 col0\" >0.795056</td>\n",
              "      <td id=\"T_8c193_row1_col1\" class=\"data row1 col1\" >0.789551</td>\n",
              "      <td id=\"T_8c193_row1_col2\" class=\"data row1 col2\" >0.779230</td>\n",
              "      <td id=\"T_8c193_row1_col3\" class=\"data row1 col3\" >0.800149</td>\n",
              "      <td id=\"T_8c193_row1_col4\" class=\"data row1 col4\" >0.795247</td>\n",
              "    </tr>\n",
              "    <tr>\n",
              "      <th id=\"T_8c193_level0_row2\" class=\"row_heading level0 row2\" >LogisticRegression</th>\n",
              "      <td id=\"T_8c193_row2_col0\" class=\"data row2 col0\" >0.766034</td>\n",
              "      <td id=\"T_8c193_row2_col1\" class=\"data row2 col1\" >0.747389</td>\n",
              "      <td id=\"T_8c193_row2_col2\" class=\"data row2 col2\" >0.776527</td>\n",
              "      <td id=\"T_8c193_row2_col3\" class=\"data row2 col3\" >0.720358</td>\n",
              "      <td id=\"T_8c193_row2_col4\" class=\"data row2 col4\" >0.764317</td>\n",
              "    </tr>\n",
              "    <tr>\n",
              "      <th id=\"T_8c193_level0_row3\" class=\"row_heading level0 row3\" >DecisionTree</th>\n",
              "      <td id=\"T_8c193_row3_col0\" class=\"data row3 col0\" >0.748119</td>\n",
              "      <td id=\"T_8c193_row3_col1\" class=\"data row3 col1\" >0.729719</td>\n",
              "      <td id=\"T_8c193_row3_col2\" class=\"data row3 col2\" >0.753175</td>\n",
              "      <td id=\"T_8c193_row3_col3\" class=\"data row3 col3\" >0.707681</td>\n",
              "      <td id=\"T_8c193_row3_col4\" class=\"data row3 col4\" >0.746599</td>\n",
              "    </tr>\n",
              "    <tr>\n",
              "      <th id=\"T_8c193_level0_row4\" class=\"row_heading level0 row4\" >KNearsNeighbors</th>\n",
              "      <td id=\"T_8c193_row4_col0\" class=\"data row4 col0\" >0.729846</td>\n",
              "      <td id=\"T_8c193_row4_col1\" class=\"data row4 col1\" >0.703616</td>\n",
              "      <td id=\"T_8c193_row4_col2\" class=\"data row4 col2\" >0.743973</td>\n",
              "      <td id=\"T_8c193_row4_col3\" class=\"data row4 col3\" >0.667412</td>\n",
              "      <td id=\"T_8c193_row4_col4\" class=\"data row4 col4\" >0.727499</td>\n",
              "    </tr>\n",
              "  </tbody>\n",
              "</table>\n"
            ],
            "text/plain": [
              "<pandas.io.formats.style.Styler at 0x7b1c20b608e0>"
            ]
          },
          "execution_count": 44,
          "metadata": {},
          "output_type": "execute_result"
        }
      ],
      "source": [
        "xgboost = XGBClassifier()\n",
        "xgboost_result = train_evaluate_model(xgboost, x_train, y_train, x_test, y_test)\n",
        "xgboost_result.index = ['XGBoost']\n",
        "\n",
        "results = results.append(xgboost_result)\n",
        "results.sort_values(by='f1_score',ascending=False).style.background_gradient(cmap = sns.color_palette(\"ch:s=-.2,r=.6\", as_cmap=True))"
      ]
    },
    {
      "cell_type": "markdown",
      "metadata": {
        "id": "3Q4Y1ZyLy2h6"
      },
      "source": [
        "Model 6"
      ]
    },
    {
      "cell_type": "code",
      "execution_count": 45,
      "metadata": {
        "colab": {
          "base_uri": "https://localhost:8080/",
          "height": 237
        },
        "id": "6SpQhUDRy2_n",
        "outputId": "0a30a36d-42e2-455a-adea-fca69335cd06"
      },
      "outputs": [
        {
          "data": {
            "text/html": [
              "<style type=\"text/css\">\n",
              "#T_bd65e_row0_col0, #T_bd65e_row0_col1, #T_bd65e_row0_col2, #T_bd65e_row0_col4, #T_bd65e_row2_col3 {\n",
              "  background-color: #27213f;\n",
              "  color: #f1f1f1;\n",
              "}\n",
              "#T_bd65e_row0_col3 {\n",
              "  background-color: #3c2a53;\n",
              "  color: #f1f1f1;\n",
              "}\n",
              "#T_bd65e_row1_col0, #T_bd65e_row1_col3 {\n",
              "  background-color: #302548;\n",
              "  color: #f1f1f1;\n",
              "}\n",
              "#T_bd65e_row1_col1 {\n",
              "  background-color: #292141;\n",
              "  color: #f1f1f1;\n",
              "}\n",
              "#T_bd65e_row1_col2 {\n",
              "  background-color: #3f2c55;\n",
              "  color: #f1f1f1;\n",
              "}\n",
              "#T_bd65e_row1_col4 {\n",
              "  background-color: #2e2447;\n",
              "  color: #f1f1f1;\n",
              "}\n",
              "#T_bd65e_row2_col0 {\n",
              "  background-color: #d5ad9c;\n",
              "  color: #000000;\n",
              "}\n",
              "#T_bd65e_row2_col1 {\n",
              "  background-color: #a36083;\n",
              "  color: #f1f1f1;\n",
              "}\n",
              "#T_bd65e_row2_col2, #T_bd65e_row5_col0, #T_bd65e_row5_col1, #T_bd65e_row5_col3, #T_bd65e_row5_col4 {\n",
              "  background-color: #e3d9c1;\n",
              "  color: #000000;\n",
              "}\n",
              "#T_bd65e_row2_col4 {\n",
              "  background-color: #d09e95;\n",
              "  color: #f1f1f1;\n",
              "}\n",
              "#T_bd65e_row3_col0 {\n",
              "  background-color: #a66283;\n",
              "  color: #f1f1f1;\n",
              "}\n",
              "#T_bd65e_row3_col1 {\n",
              "  background-color: #ab6684;\n",
              "  color: #f1f1f1;\n",
              "}\n",
              "#T_bd65e_row3_col2 {\n",
              "  background-color: #48305c;\n",
              "  color: #f1f1f1;\n",
              "}\n",
              "#T_bd65e_row3_col3 {\n",
              "  background-color: #c07f8a;\n",
              "  color: #f1f1f1;\n",
              "}\n",
              "#T_bd65e_row3_col4 {\n",
              "  background-color: #a76384;\n",
              "  color: #f1f1f1;\n",
              "}\n",
              "#T_bd65e_row4_col0, #T_bd65e_row4_col4 {\n",
              "  background-color: #ce9a93;\n",
              "  color: #f1f1f1;\n",
              "}\n",
              "#T_bd65e_row4_col1 {\n",
              "  background-color: #cb9290;\n",
              "  color: #f1f1f1;\n",
              "}\n",
              "#T_bd65e_row4_col2 {\n",
              "  background-color: #965680;\n",
              "  color: #f1f1f1;\n",
              "}\n",
              "#T_bd65e_row4_col3 {\n",
              "  background-color: #cb9491;\n",
              "  color: #f1f1f1;\n",
              "}\n",
              "#T_bd65e_row5_col2 {\n",
              "  background-color: #ae6985;\n",
              "  color: #f1f1f1;\n",
              "}\n",
              "</style>\n",
              "<table id=\"T_bd65e\" class=\"dataframe\">\n",
              "  <thead>\n",
              "    <tr>\n",
              "      <th class=\"blank level0\" >&nbsp;</th>\n",
              "      <th id=\"T_bd65e_level0_col0\" class=\"col_heading level0 col0\" >accuracy</th>\n",
              "      <th id=\"T_bd65e_level0_col1\" class=\"col_heading level0 col1\" >f1_score</th>\n",
              "      <th id=\"T_bd65e_level0_col2\" class=\"col_heading level0 col2\" >precision</th>\n",
              "      <th id=\"T_bd65e_level0_col3\" class=\"col_heading level0 col3\" >recall</th>\n",
              "      <th id=\"T_bd65e_level0_col4\" class=\"col_heading level0 col4\" >balanced_accuracy</th>\n",
              "    </tr>\n",
              "  </thead>\n",
              "  <tbody>\n",
              "    <tr>\n",
              "      <th id=\"T_bd65e_level0_row0\" class=\"row_heading level0 row0\" >RandomForest</th>\n",
              "      <td id=\"T_bd65e_row0_col0\" class=\"data row0 col0\" >0.797564</td>\n",
              "      <td id=\"T_bd65e_row0_col1\" class=\"data row0 col1\" >0.790197</td>\n",
              "      <td id=\"T_bd65e_row0_col2\" class=\"data row0 col2\" >0.786982</td>\n",
              "      <td id=\"T_bd65e_row0_col3\" class=\"data row0 col3\" >0.793438</td>\n",
              "      <td id=\"T_bd65e_row0_col4\" class=\"data row0 col4\" >0.797409</td>\n",
              "    </tr>\n",
              "    <tr>\n",
              "      <th id=\"T_bd65e_level0_row1\" class=\"row_heading level0 row1\" >XGBoost</th>\n",
              "      <td id=\"T_bd65e_row1_col0\" class=\"data row1 col0\" >0.795056</td>\n",
              "      <td id=\"T_bd65e_row1_col1\" class=\"data row1 col1\" >0.789551</td>\n",
              "      <td id=\"T_bd65e_row1_col2\" class=\"data row1 col2\" >0.779230</td>\n",
              "      <td id=\"T_bd65e_row1_col3\" class=\"data row1 col3\" >0.800149</td>\n",
              "      <td id=\"T_bd65e_row1_col4\" class=\"data row1 col4\" >0.795247</td>\n",
              "    </tr>\n",
              "    <tr>\n",
              "      <th id=\"T_bd65e_level0_row2\" class=\"row_heading level0 row2\" >NaiveBayes</th>\n",
              "      <td id=\"T_bd65e_row2_col0\" class=\"data row2 col0\" >0.742745</td>\n",
              "      <td id=\"T_bd65e_row2_col1\" class=\"data row2 col1\" >0.750348</td>\n",
              "      <td id=\"T_bd65e_row2_col2\" class=\"data row2 col2\" >0.702932</td>\n",
              "      <td id=\"T_bd65e_row2_col3\" class=\"data row2 col3\" >0.804623</td>\n",
              "      <td id=\"T_bd65e_row2_col4\" class=\"data row2 col4\" >0.745070</td>\n",
              "    </tr>\n",
              "    <tr>\n",
              "      <th id=\"T_bd65e_level0_row3\" class=\"row_heading level0 row3\" >LogisticRegression</th>\n",
              "      <td id=\"T_bd65e_row3_col0\" class=\"data row3 col0\" >0.766034</td>\n",
              "      <td id=\"T_bd65e_row3_col1\" class=\"data row3 col1\" >0.747389</td>\n",
              "      <td id=\"T_bd65e_row3_col2\" class=\"data row3 col2\" >0.776527</td>\n",
              "      <td id=\"T_bd65e_row3_col3\" class=\"data row3 col3\" >0.720358</td>\n",
              "      <td id=\"T_bd65e_row3_col4\" class=\"data row3 col4\" >0.764317</td>\n",
              "    </tr>\n",
              "    <tr>\n",
              "      <th id=\"T_bd65e_level0_row4\" class=\"row_heading level0 row4\" >DecisionTree</th>\n",
              "      <td id=\"T_bd65e_row4_col0\" class=\"data row4 col0\" >0.748119</td>\n",
              "      <td id=\"T_bd65e_row4_col1\" class=\"data row4 col1\" >0.729719</td>\n",
              "      <td id=\"T_bd65e_row4_col2\" class=\"data row4 col2\" >0.753175</td>\n",
              "      <td id=\"T_bd65e_row4_col3\" class=\"data row4 col3\" >0.707681</td>\n",
              "      <td id=\"T_bd65e_row4_col4\" class=\"data row4 col4\" >0.746599</td>\n",
              "    </tr>\n",
              "    <tr>\n",
              "      <th id=\"T_bd65e_level0_row5\" class=\"row_heading level0 row5\" >KNearsNeighbors</th>\n",
              "      <td id=\"T_bd65e_row5_col0\" class=\"data row5 col0\" >0.729846</td>\n",
              "      <td id=\"T_bd65e_row5_col1\" class=\"data row5 col1\" >0.703616</td>\n",
              "      <td id=\"T_bd65e_row5_col2\" class=\"data row5 col2\" >0.743973</td>\n",
              "      <td id=\"T_bd65e_row5_col3\" class=\"data row5 col3\" >0.667412</td>\n",
              "      <td id=\"T_bd65e_row5_col4\" class=\"data row5 col4\" >0.727499</td>\n",
              "    </tr>\n",
              "  </tbody>\n",
              "</table>\n"
            ],
            "text/plain": [
              "<pandas.io.formats.style.Styler at 0x7b1c1af00e50>"
            ]
          },
          "execution_count": 45,
          "metadata": {},
          "output_type": "execute_result"
        }
      ],
      "source": [
        "Naive_Bayes = GaussianNB()\n",
        "Naive_Bayes_result = train_evaluate_model(Naive_Bayes, x_train, y_train, x_test, y_test)\n",
        "Naive_Bayes_result.index = ['NaiveBayes']\n",
        "\n",
        "results = results.append(Naive_Bayes_result)\n",
        "results.sort_values(by='f1_score',ascending=False).style.background_gradient(cmap = sns.color_palette(\"ch:s=-.2,r=.6\", as_cmap=True))"
      ]
    }
  ],
  "metadata": {
    "colab": {
      "provenance": []
    },
    "kernelspec": {
      "display_name": "Python 3",
      "name": "python3"
    },
    "language_info": {
      "codemirror_mode": {
        "name": "ipython",
        "version": 3
      },
      "file_extension": ".py",
      "mimetype": "text/x-python",
      "name": "python",
      "nbconvert_exporter": "python",
      "pygments_lexer": "ipython3",
      "version": "3.12.2"
    }
  },
  "nbformat": 4,
  "nbformat_minor": 0
}
